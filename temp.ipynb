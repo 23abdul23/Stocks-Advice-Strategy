{
 "cells": [
  {
   "cell_type": "code",
   "execution_count": 18,
   "id": "a3408578",
   "metadata": {},
   "outputs": [],
   "source": [
    "from langgraph.graph import StateGraph, END\n",
    "from langchain_groq import ChatGroq\n",
    "from typing import TypedDict, Literal\n",
    "from dotenv import load_dotenv\n",
    "from google import genai\n",
    "from google.genai import types\n",
    "import os\n",
    "\n",
    "from yfinance import utils\n",
    "\n",
    "\n",
    "\n",
    "\n",
    "import streamlit as st\n",
    "\n",
    "from classes import *\n",
    "from utils import *\n",
    "\n",
    "load_dotenv()\n",
    "MODEL = \"llama-3.1-8b-instant\"\n",
    "\n",
    "llm = ChatGroq(\n",
    "    temperature=0,\n",
    "    model_name=MODEL,\n",
    "    api_key=os.environ.get(\"GROQ_API_KEY\"),\n",
    ")\n",
    "\n",
    "test_input = UsageClassfier(user_query=\"\"\"\n",
    "I'm 32 years old, working as a full-time software engineer in Bangalore. \n",
    "I make around ₹1.2 lakh per month with a side freelance income of ₹20,000. \n",
    "My investment goal is to build long-term wealth for early retirement, ideally by the age of 50. \n",
    "I’ve been investing for about 4 years, mostly in mutual funds, but I want to be more active now. \n",
    "Given that I have moderate risk tolerance and two young children, I want a strategy that balances growth and stability.\n",
    "What investment duration and asset mix would you recommend?\n",
    "\"\"\")\n",
    "\n",
    "# test_input1 = usage_extractor(test_input)\n",
    "\n",
    "# test_input2 = portfolio_builder(test_input)\n",
    "\n",
    "# test_input3 = portfolio_summariser(test_input2)\n",
    "\n",
    "\n",
    "\n",
    "# #App Title\n",
    "# st.title(\"Stock Adivce/Strategy\")\n",
    "\n",
    "# # User Input Section\n",
    "# st.subheader(\"Enter Your Query\")\n",
    "# user_query = st.text_input(\"Ask your financial question (e.g., 'Advice related to NVIDIA Stocks', 'Give me trading strategy based on my portfolio')\")\n",
    "\n",
    "\n",
    "# if st.button(\"Get Solution\"):\n",
    "#     if user_query:\n",
    "#         state = app.invoke({\"user_query\"} : user_query)"
   ]
  },
  {
   "cell_type": "code",
   "execution_count": 36,
   "id": "8ec4e908",
   "metadata": {},
   "outputs": [],
   "source": [
    "graph = StateGraph(AppState)\n",
    "graph.support_multiple_edges = True\n",
    "\n",
    "graph.add_node(\"usage_extractor\", usage_extractor)\n",
    "graph.add_node(\"news_extractor\", news_extractor)\n",
    "graph.add_node(\"macro_economic\", macro_economic)\n",
    "graph.add_node(\"market_trendsX\", market_trends)\n",
    "graph.add_node(\"adviceX\", advice)\n",
    "graph.add_node(\"strategyX\", strategy)\n",
    "graph.add_node(\"final_proposalX\", final_proposal)\n",
    "\n",
    "graph.add_conditional_edges(\"market_trendsX\", usage_check, {\"advice\": \"adviceX\", \"strategy\" : \"strategyX\", \"invalid\" : \"final_proposalX\"})\n",
    "\n",
    "graph.add_edge(\"usage_extractor\", \"news_extractor\")\n",
    "graph.add_edge(\"usage_extractor\", \"macro_economic\")\n",
    "graph.add_edge(\"news_extractor\", \"market_trendsX\")\n",
    "graph.add_edge(\"macro_economic\", \"market_trendsX\")\n",
    "graph.add_edge(\"adviceX\", \"final_proposalX\")\n",
    "graph.add_edge(\"strategyX\", \"final_proposalX\")\n",
    "\n",
    "graph.set_entry_point(\"usage_extractor\")\n",
    "graph.set_finish_point(\"final_proposalX\")\n",
    "app = graph.compile()"
   ]
  },
  {
   "cell_type": "code",
   "execution_count": 39,
   "id": "3f4d16ed",
   "metadata": {},
   "outputs": [
    {
     "name": "stdout",
     "output_type": "stream",
     "text": [
      "Graph saved as 'Pipeline.png' in c:\\Users\\Azeem\\Desktop\\AI Token\\Stock-advice-agent\n"
     ]
    }
   ],
   "source": [
    "png_graph = app.get_graph().draw_mermaid_png()\n",
    "\n",
    "with open(\"Pipeline.png\", \"wb\") as f:\n",
    "    f.write(png_graph)\n"
   ]
  },
  {
   "cell_type": "code",
   "execution_count": 1,
   "id": "ad1d88b1",
   "metadata": {},
   "outputs": [],
   "source": [
    "from stocks import NIFTY50"
   ]
  },
  {
   "cell_type": "code",
   "execution_count": 3,
   "id": "523136b0",
   "metadata": {},
   "outputs": [
    {
     "data": {
      "text/plain": [
       "[('ADANIPORTS', 'Adani Ports and Special Economic Zone Ltd'),\n",
       " ('ASIANPAINT', 'Asian Paints Ltd'),\n",
       " ('AXISBANK', 'Axis Bank Ltd'),\n",
       " ('BAJAJ-AUTO', 'Bajaj Auto Ltd'),\n",
       " ('BAJFINANCE', 'Bajaj Finance Ltd'),\n",
       " ('BAJAJFINSV', 'Bajaj Finserv Ltd'),\n",
       " ('BHARTIARTL', 'Bharti Airtel Ltd'),\n",
       " ('BPCL', 'Bharat Petroleum Corporation Ltd'),\n",
       " ('BRITANNIA', 'Britannia Industries Ltd'),\n",
       " ('CIPLA', 'Cipla Ltd'),\n",
       " ('COALINDIA', 'Coal India Ltd'),\n",
       " ('DIVISLAB', \"Divi's Laboratories Ltd\"),\n",
       " ('DRREDDY', \"Dr. Reddy's Laboratories Ltd\"),\n",
       " ('EICHERMOT', 'Eicher Motors Ltd'),\n",
       " ('GRASIM', 'Grasim Industries Ltd'),\n",
       " ('HCLTECH', 'HCL Technologies Ltd'),\n",
       " ('HDFCBANK', 'HDFC Bank Ltd'),\n",
       " ('HDFCLIFE', 'HDFC Life Insurance Company Ltd'),\n",
       " ('HEROMOTOCO', 'Hero MotoCorp Ltd'),\n",
       " ('HINDALCO', 'Hindalco Industries Ltd'),\n",
       " ('HINDUNILVR', 'Hindustan Unilever Ltd'),\n",
       " ('ICICIBANK', 'ICICI Bank Ltd'),\n",
       " ('INDUSINDBK', 'IndusInd Bank Ltd'),\n",
       " ('INFY', 'Infosys Ltd'),\n",
       " ('ITC', 'ITC Ltd'),\n",
       " ('JSWSTEEL', 'JSW Steel Ltd'),\n",
       " ('KOTAKBANK', 'Kotak Mahindra Bank Ltd'),\n",
       " ('LT', 'Larsen & Toubro Ltd'),\n",
       " ('M&M', 'Mahindra & Mahindra Ltd'),\n",
       " ('MARUTI', 'Maruti Suzuki India Ltd'),\n",
       " ('NESTLEIND', 'Nestle India Ltd'),\n",
       " ('NTPC', 'NTPC Ltd'),\n",
       " ('ONGC', 'Oil & Natural Gas Corporation Ltd'),\n",
       " ('POWERGRID', 'Power Grid Corporation of India Ltd'),\n",
       " ('RELIANCE', 'Reliance Industries Ltd'),\n",
       " ('SBILIFE', 'SBI Life Insurance Company Ltd'),\n",
       " ('SBIN', 'State Bank of India'),\n",
       " ('SHREECEM', 'Shree Cement Ltd'),\n",
       " ('SUNPHARMA', 'Sun Pharmaceutical Industries Ltd'),\n",
       " ('TATACONSUM', 'Tata Consumer Products Ltd'),\n",
       " ('TATAMOTORS', 'Tata Motors Ltd'),\n",
       " ('TATASTEEL', 'Tata Steel Ltd'),\n",
       " ('TCS', 'Tata Consultancy Services Ltd'),\n",
       " ('TECHM', 'Tech Mahindra Ltd'),\n",
       " ('TITAN', 'Titan Company Ltd'),\n",
       " ('ULTRACEMCO', 'UltraTech Cement Ltd'),\n",
       " ('UPL', 'UPL Ltd'),\n",
       " ('WIPRO', 'Wipro Ltd')]"
      ]
     },
     "execution_count": 3,
     "metadata": {},
     "output_type": "execute_result"
    }
   ],
   "source": [
    "list(NIFTY50.items())"
   ]
  },
  {
   "cell_type": "code",
   "execution_count": 21,
   "id": "d38e1213",
   "metadata": {},
   "outputs": [
    {
     "name": "stdout",
     "output_type": "stream",
     "text": [
      "ITC\n",
      "[]\n"
     ]
    }
   ],
   "source": [
    "from utils import news_extractor\n",
    "\n",
    "news_extractor()"
   ]
  }
 ],
 "metadata": {
  "kernelspec": {
   "display_name": "Python 3",
   "language": "python",
   "name": "python3"
  },
  "language_info": {
   "codemirror_mode": {
    "name": "ipython",
    "version": 3
   },
   "file_extension": ".py",
   "mimetype": "text/x-python",
   "name": "python",
   "nbconvert_exporter": "python",
   "pygments_lexer": "ipython3",
   "version": "3.11.3"
  }
 },
 "nbformat": 4,
 "nbformat_minor": 5
}
